{
 "cells": [
  {
   "cell_type": "code",
   "execution_count": 3,
   "id": "6551c95a-1873-42ca-9a2c-e5a6198755fd",
   "metadata": {},
   "outputs": [
    {
     "name": "stdout",
     "output_type": "stream",
     "text": [
      "Training set size: (1565, 30)\n",
      "Testing set size: (392, 30)\n",
      "                  Model  RMSLE   RMSE       MSE    MAE\n",
      "0  XGBoost (Log Target)   0.48  132.2  17477.38  77.32\n",
      "Train R²: 0.9713608215740697\n",
      "Test R²: 0.8740284786794396\n"
     ]
    }
   ],
   "source": [
    "import pandas as pd\n",
    "import numpy as np\n",
    "import pickle\n",
    "from sklearn.model_selection import train_test_split\n",
    "from sklearn.linear_model import LinearRegression\n",
    "from sklearn.tree import DecisionTreeRegressor\n",
    "from sklearn.model_selection import train_test_split\n",
    "from scipy.stats import ttest_ind\n",
    "from sklearn.metrics import mean_squared_error, mean_absolute_error, mean_squared_log_error\n",
    "from sklearn.linear_model import LinearRegression\n",
    "from sklearn.ensemble import RandomForestRegressor, GradientBoostingRegressor\n",
    "from xgboost import XGBRegressor\n",
    "from sklearn.metrics import mean_squared_error, mean_absolute_error, mean_squared_log_error\n",
    "\n",
    "\n",
    "encoded_sales_df = pd.read_csv(\"encoded_NewData.csv\")\n",
    "\n",
    "# Define features and target variable\n",
    "X = encoded_sales_df.drop(columns=[\"Sales\"])  # Features\n",
    "y = encoded_sales_df[\"Sales\"]  # Target variable\n",
    "\n",
    "# Split the data into training and testing sets\n",
    "X_train, X_test, y_train, y_test = train_test_split(X, y, test_size=0.2, random_state=42)\n",
    "\n",
    "print(\"Training set size:\", X_train.shape)\n",
    "print(\"Testing set size:\", X_test.shape)\n",
    "y_train_log = np.log1p(y_train)   # log(1 + y)\n",
    "y_test_log = np.log1p(y_test)\n",
    "\n",
    "# ----- 2. Train the XGBoost Regressor on log-transformed target -----\n",
    "xgb_model = XGBRegressor(random_state=42, n_estimators=100, learning_rate=0.1, max_depth=6)\n",
    "xgb_model.fit(X_train, y_train_log)\n",
    "\n",
    "# ----- 3. Predict on the test data (in log scale) -----\n",
    "y_pred_log = xgb_model.predict(X_test)\n",
    "\n",
    "# ----- 4. Inverse the transformation to get real-scale predictions -----\n",
    "y_pred = np.expm1(y_pred_log)  # inverse of log1p\n",
    "y_test_real = np.expm1(y_test_log)\n",
    "\n",
    "# ----- 5. Evaluate model performance -----\n",
    "xgb_mse = mean_squared_error(y_test, y_pred)\n",
    "xgb_rmse = np.sqrt(xgb_mse)\n",
    "xgb_mae = mean_absolute_error(y_test, y_pred)\n",
    "xgb_rmsle = np.sqrt(mean_squared_log_error(y_test, np.maximum(0, y_pred)))  # clamp negatives if any\n",
    "\n",
    "# ----- 6. Print results -----\n",
    "results_xgb = pd.DataFrame({\n",
    "    'Model': ['XGBoost (Log Target)'],\n",
    "    'RMSLE': [xgb_rmsle],\n",
    "    'RMSE': [xgb_rmse],\n",
    "    'MSE': [xgb_mse],\n",
    "    'MAE': [xgb_mae]\n",
    "}).round(2)\n",
    "\n",
    "print(results_xgb)\n",
    "\n",
    "# ----- 7. R² Scores -----\n",
    "print(\"Train R²:\", xgb_model.score(X_train, y_train_log))  # still log-scale\n",
    "print(\"Test R²:\", xgb_model.score(X_test, y_test_log))\n",
    "\n",
    "pickle.dump(xgb_model, open('model.pkl','wb'))\n",
    "with open(\"columns.pkl\", \"wb\") as f:\n",
    "    pickle.dump(X_train.columns.tolist(), f)\n",
    "# model = pickle.load(open('model.pkl','rb'))\n",
    "# print(model.predict([[80, 1770000, 6000, 85]]))"
   ]
  }
 ],
 "metadata": {
  "kernelspec": {
   "display_name": "Python 3",
   "language": "python",
   "name": "python3"
  },
  "language_info": {
   "codemirror_mode": {
    "name": "ipython",
    "version": 3
   },
   "file_extension": ".py",
   "mimetype": "text/x-python",
   "name": "python",
   "nbconvert_exporter": "python",
   "pygments_lexer": "ipython3",
   "version": "3.12.8"
  }
 },
 "nbformat": 4,
 "nbformat_minor": 5
}
